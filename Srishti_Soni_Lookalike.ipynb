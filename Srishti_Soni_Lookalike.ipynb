{
  "nbformat": 4,
  "nbformat_minor": 0,
  "metadata": {
    "colab": {
      "provenance": []
    },
    "kernelspec": {
      "name": "python3",
      "display_name": "Python 3"
    },
    "language_info": {
      "name": "python"
    }
  },
  "cells": [
    {
      "cell_type": "code",
      "execution_count": 2,
      "metadata": {
        "colab": {
          "base_uri": "https://localhost:8080/",
          "height": 399
        },
        "id": "Gi3hQkDxxRmS",
        "outputId": "0ce08a15-5ab3-4bbc-e72f-964aaba1b03a"
      },
      "outputs": [
        {
          "output_type": "stream",
          "name": "stdout",
          "text": [
            "   CustomerID                                    Top3_Lookalikes\n",
            "0       C0001  [('C0190', 0.968215451295126), ('C0048', 0.941...\n",
            "1       C0002  [('C0088', 0.9663574397998078), ('C0134', 0.94...\n",
            "2       C0003  [('C0052', 0.9847977904024423), ('C0152', 0.92...\n",
            "3       C0004  [('C0165', 0.9711437718179058), ('C0155', 0.96...\n",
            "4       C0005  [('C0186', 0.9787905419345103), ('C0146', 0.95...\n",
            "5       C0006  [('C0168', 0.9732537429499296), ('C0171', 0.95...\n",
            "6       C0007  [('C0140', 0.9764156563035169), ('C0115', 0.93...\n",
            "7       C0008  [('C0109', 0.8700104206236068), ('C0139', 0.81...\n",
            "8       C0009  [('C0010', 0.9760669630706748), ('C0198', 0.95...\n",
            "9       C0010  [('C0009', 0.9760669630706748), ('C0111', 0.97...\n",
            "10      C0011  [('C0137', 0.9611944701177748), ('C0169', 0.92...\n",
            "11      C0012  [('C0104', 0.9659896786844346), ('C0113', 0.92...\n",
            "12      C0013  [('C0099', 0.9855644363688847), ('C0108', 0.91...\n",
            "13      C0014  [('C0060', 0.9763044912298495), ('C0151', 0.90...\n",
            "14      C0015  [('C0036', 0.980365127065939), ('C0131', 0.974...\n",
            "15      C0016  [('C0183', 0.9998750016492791), ('C0067', 0.91...\n",
            "16      C0017  [('C0075', 0.9694478848397573), ('C0081', 0.85...\n",
            "17      C0018  [('C0117', 0.947351865308591), ('C0185', 0.836...\n",
            "18      C0019  [('C0121', 0.902523629526074), ('C0081', 0.831...\n",
            "19      C0020  [('C0050', 0.8471955082476953), ('C0140', 0.83...\n"
          ]
        },
        {
          "output_type": "execute_result",
          "data": {
            "text/plain": [
              "/content/Customer_Lookalikes.csv"
            ],
            "text/html": [
              "<a href='Customer_Lookalikes.csv' target='_blank'>Customer_Lookalikes.csv</a><br>"
            ]
          },
          "metadata": {},
          "execution_count": 2
        }
      ],
      "source": [
        "import pandas as pd\n",
        "from sklearn.preprocessing import StandardScaler\n",
        "from sklearn.metrics.pairwise import cosine_similarity\n",
        "\n",
        "# Load datasets\n",
        "customer_data = pd.read_csv('Customers.csv')\n",
        "product_data = pd.read_csv('Products.csv')\n",
        "transaction_data = pd.read_csv('Transactions.csv')\n",
        "\n",
        "# Merge datasets for comprehensive analysis\n",
        "merged_data = transaction_data.merge(customer_data, on='CustomerID').merge(product_data, on='ProductID')\n",
        "\n",
        "# Feature Engineering: Create customer-level features\n",
        "customer_features = merged_data.groupby('CustomerID').agg(\n",
        "    total_spent=('TotalValue', 'sum'),  # Total amount spent by each customer\n",
        "    total_transactions=('TransactionID', 'count'),  # Number of transactions per customer\n",
        "    avg_transaction_value=('TotalValue', 'mean'),  # Average transaction value\n",
        "    most_common_region=('Region', lambda x: x.mode()[0]),  # Most frequent region\n",
        "    preferred_category=('Category', lambda x: x.mode()[0])  # Most preferred product category\n",
        ").reset_index()\n",
        "\n",
        "# Convert categorical features to one-hot encoding\n",
        "customer_features = pd.get_dummies(customer_features, columns=['most_common_region', 'preferred_category'])\n",
        "\n",
        "# Normalize numerical features for similarity calculation\n",
        "scaler = StandardScaler()\n",
        "numerical_columns = ['total_spent', 'total_transactions', 'avg_transaction_value']\n",
        "customer_features[numerical_columns] = scaler.fit_transform(customer_features[numerical_columns])\n",
        "\n",
        "# Calculate cosine similarity between customers\n",
        "similarity_matrix = cosine_similarity(customer_features.drop(columns=['CustomerID']))\n",
        "similarity_df = pd.DataFrame(similarity_matrix, index=customer_features['CustomerID'], columns=customer_features['CustomerID'])\n",
        "\n",
        "# Identify top 3 lookalike customers for the first 20 customers\n",
        "lookalike_results = {}\n",
        "\n",
        "for customer_id in customer_features['CustomerID'][:20]:  # Focus on the first 20 customers\n",
        "    similar_customers = similarity_df[customer_id].sort_values(ascending=False).iloc[1:4]  # Exclude self and get top 3\n",
        "    lookalike_results[customer_id] = [(other_id, score) for other_id, score in similar_customers.items()]\n",
        "\n",
        "# Convert results to a DataFrame for better readability\n",
        "lookalike_df = pd.DataFrame({\n",
        "    'CustomerID': lookalike_results.keys(),\n",
        "    'Top3_Lookalikes': [str(values) for values in lookalike_results.values()]\n",
        "})\n",
        "\n",
        "# Save results to a CSV file\n",
        "lookalike_df.to_csv('Customer_Lookalikes.csv', index=False)\n",
        "\n",
        "# Display results\n",
        "print(lookalike_df)\n",
        "\n",
        "# Provide a download link for the CSV file\n",
        "from IPython.display import FileLink\n",
        "FileLink(r'Customer_Lookalikes.csv')"
      ]
    }
  ]
}